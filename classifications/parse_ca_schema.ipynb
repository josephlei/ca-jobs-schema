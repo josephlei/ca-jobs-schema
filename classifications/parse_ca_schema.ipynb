{
 "cells": [
  {
   "cell_type": "code",
   "execution_count": 14,
   "metadata": {
    "collapsed": false
   },
   "outputs": [
    {
     "ename": "ImportError",
     "evalue": "cannot import name 'find'",
     "output_type": "error",
     "traceback": [
      "\u001b[0;31m---------------------------------------------------------------------------\u001b[0m",
      "\u001b[0;31mImportError\u001b[0m                               Traceback (most recent call last)",
      "\u001b[0;32m<ipython-input-14-e662b7e3f840>\u001b[0m in \u001b[0;36m<module>\u001b[0;34m()\u001b[0m\n\u001b[1;32m      1\u001b[0m \u001b[0;32mimport\u001b[0m \u001b[0mcsv\u001b[0m\u001b[0;34m\u001b[0m\u001b[0m\n\u001b[0;32m----> 2\u001b[0;31m \u001b[0;32mfrom\u001b[0m \u001b[0mstring\u001b[0m \u001b[0;32mimport\u001b[0m \u001b[0mfind\u001b[0m\u001b[0;34m\u001b[0m\u001b[0m\n\u001b[0m",
      "\u001b[0;31mImportError\u001b[0m: cannot import name 'find'"
     ]
    }
   ],
   "source": [
    "import csv\n",
    "from string import find"
   ]
  },
  {
   "cell_type": "code",
   "execution_count": 1,
   "metadata": {
    "collapsed": false
   },
   "outputs": [],
   "source": [
    "# parse descriptor rows, simple convention, hard coded positions 1-4, 6-9, 11-end\n",
    "\n",
    "def parse_descriptors(x):\n",
    "    return {'schema':x[:4], 'class':x[5:9],'title':x[10:]}    \n",
    "\n",
    "# parse_descriptors(\"JL26 4546 ACCOUNTING OFFICER (SPECIALIST)\")"
   ]
  },
  {
   "cell_type": "code",
   "execution_count": 2,
   "metadata": {
    "collapsed": false
   },
   "outputs": [],
   "source": [
    "test={'entry':'$3,247.00 - $3,689.00 01 19 21 206 1 12 2 R01'}\n",
    "\n",
    "def parse_range(x):\n",
    "    if x[1]==' ':\n",
    "        return {'range':x[0], 'entry':x[2:]}\n",
    "    else:\n",
    "        return {'range': None, 'entry':x}\n",
    "\n",
    "#test.update(parse_range(test['entry']))\n",
    "#prev feeding it a string, now a dictionary"
   ]
  },
  {
   "cell_type": "code",
   "execution_count": 3,
   "metadata": {
    "collapsed": false
   },
   "outputs": [
    {
     "ename": "NameError",
     "evalue": "name 'find' is not defined",
     "output_type": "error",
     "traceback": [
      "\u001b[0;31m---------------------------------------------------------------------------\u001b[0m",
      "\u001b[0;31mNameError\u001b[0m                                 Traceback (most recent call last)",
      "\u001b[0;32m<ipython-input-3-652c17dc204a>\u001b[0m in \u001b[0;36m<module>\u001b[0;34m()\u001b[0m\n\u001b[1;32m     17\u001b[0m     \u001b[0;32mreturn\u001b[0m \u001b[0;34m{\u001b[0m\u001b[0;34m'low'\u001b[0m\u001b[0;34m:\u001b[0m\u001b[0mlow\u001b[0m\u001b[0;34m,\u001b[0m \u001b[0;34m'high'\u001b[0m\u001b[0;34m:\u001b[0m\u001b[0mhigh\u001b[0m\u001b[0;34m,\u001b[0m\u001b[0;34m'entry'\u001b[0m\u001b[0;34m:\u001b[0m\u001b[0mx\u001b[0m\u001b[0;34m[\u001b[0m\u001b[0mthird_space\u001b[0m\u001b[0;34m+\u001b[0m\u001b[0;36m1\u001b[0m\u001b[0;34m:\u001b[0m\u001b[0;34m]\u001b[0m\u001b[0;34m}\u001b[0m\u001b[0;34m\u001b[0m\u001b[0m\n\u001b[1;32m     18\u001b[0m \u001b[0;34m\u001b[0m\u001b[0m\n\u001b[0;32m---> 19\u001b[0;31m \u001b[0mtest\u001b[0m\u001b[0;34m.\u001b[0m\u001b[0mupdate\u001b[0m\u001b[0;34m(\u001b[0m\u001b[0mparse_pay\u001b[0m\u001b[0;34m(\u001b[0m\u001b[0mtest\u001b[0m\u001b[0;34m[\u001b[0m\u001b[0;34m'entry'\u001b[0m\u001b[0;34m]\u001b[0m\u001b[0;34m)\u001b[0m\u001b[0;34m)\u001b[0m\u001b[0;34m\u001b[0m\u001b[0m\n\u001b[0m",
      "\u001b[0;32m<ipython-input-3-652c17dc204a>\u001b[0m in \u001b[0;36mparse_pay\u001b[0;34m(x)\u001b[0m\n\u001b[1;32m      2\u001b[0m \u001b[0;34m\u001b[0m\u001b[0m\n\u001b[1;32m      3\u001b[0m \u001b[0;32mdef\u001b[0m \u001b[0mparse_pay\u001b[0m\u001b[0;34m(\u001b[0m\u001b[0mx\u001b[0m\u001b[0;34m)\u001b[0m\u001b[0;34m:\u001b[0m\u001b[0;34m\u001b[0m\u001b[0m\n\u001b[0;32m----> 4\u001b[0;31m     \u001b[0mfirst_space\u001b[0m\u001b[0;34m=\u001b[0m\u001b[0mfind\u001b[0m\u001b[0;34m(\u001b[0m\u001b[0mx\u001b[0m\u001b[0;34m,\u001b[0m\u001b[0;34m' '\u001b[0m\u001b[0;34m)\u001b[0m\u001b[0;34m\u001b[0m\u001b[0m\n\u001b[0m\u001b[1;32m      5\u001b[0m     \u001b[0mlow\u001b[0m\u001b[0;34m=\u001b[0m\u001b[0mx\u001b[0m\u001b[0;34m[\u001b[0m\u001b[0;34m:\u001b[0m\u001b[0mfirst_space\u001b[0m\u001b[0;34m]\u001b[0m\u001b[0;34m\u001b[0m\u001b[0m\n\u001b[1;32m      6\u001b[0m     \u001b[0msecond_dollar\u001b[0m\u001b[0;34m=\u001b[0m\u001b[0mfind\u001b[0m\u001b[0;34m(\u001b[0m\u001b[0mx\u001b[0m\u001b[0;34m,\u001b[0m\u001b[0;34m'$'\u001b[0m\u001b[0;34m,\u001b[0m\u001b[0;36m1\u001b[0m\u001b[0;34m)\u001b[0m\u001b[0;34m\u001b[0m\u001b[0m\n",
      "\u001b[0;31mNameError\u001b[0m: name 'find' is not defined"
     ]
    }
   ],
   "source": [
    "test={'entry':'$7,156.00 - $8,960.00 01 19 1 12 E S09'}\n",
    "\n",
    "def parse_pay(x):\n",
    "    first_space=find(x,' ')\n",
    "    low=x[:first_space]\n",
    "    second_dollar=find(x,'$',1)\n",
    "    third_space=find(x,' ',second_dollar)\n",
    "    high=x[second_dollar:third_space]\n",
    "\n",
    "    '''\n",
    "    print \"first space is at position\", first_space\n",
    "    print \"the parsed low income is\", low\n",
    "    print \"the second dollar sign is at position\", second_dollar\n",
    "    print \"the third space is at position\", third_space    \n",
    "    print \"the parsed high income is\", high\n",
    "    '''\n",
    "    return {'low':low, 'high':high,'entry':x[third_space+1:]}\n",
    "    \n",
    "test.update(parse_pay(test['entry']))"
   ]
  },
  {
   "cell_type": "code",
   "execution_count": 4,
   "metadata": {
    "collapsed": false
   },
   "outputs": [
    {
     "data": {
      "text/plain": [
       "{'entry': '1 6 2 R04', 'special': None}"
      ]
     },
     "execution_count": 4,
     "metadata": {},
     "output_type": "execute_result"
    }
   ],
   "source": [
    "test={'entry':'1 6 2 R04'}\n",
    "\n",
    "#print test['entry'][:4]\n",
    "#string comparisons are case sensitive\n",
    "\n",
    "def parse_special(x):\n",
    "    if x[:7]=='HR SISA':\n",
    "        special='HR SISA'\n",
    "        return {'special':special, 'entry':x[8:]}\n",
    "    elif x[:4]=='SISA':\n",
    "        special='SISA'\n",
    "        return {'special':special, 'entry':x[5:]}\n",
    "    elif x[:3]=='DAY':\n",
    "        special='DAY'\n",
    "        return {'special':special, 'entry':x[4:]}\n",
    "    elif x[:2]=='HR':\n",
    "        special='HR'\n",
    "        return {'special':special, 'entry':x[3:]}\n",
    "    else:\n",
    "        return {'special':None, 'entry':x} #i.e. i have no specials\n",
    "\n",
    "parse_special(test['entry'])"
   ]
  },
  {
   "cell_type": "code",
   "execution_count": 5,
   "metadata": {
    "collapsed": false
   },
   "outputs": [
    {
     "data": {
      "text/plain": [
       "{'entry': '0 6 2 R01', 'footnotes': None}"
      ]
     },
     "execution_count": 5,
     "metadata": {},
     "output_type": "execute_result"
    }
   ],
   "source": [
    "#test={'entry': '01 12 19 014 1 12 E S10'}\n",
    "test={'entry':'0 6 2 R01'}\n",
    "\n",
    "def parse_footnotes(x):\n",
    "    pointer=2 #init pointer to start looking for spaces\n",
    "    footnotes=[] #init empty string to hold footnotes\n",
    "    \n",
    "    if x[pointer]!=' ':\n",
    "        return {'entry':x, 'footnotes':None}\n",
    "    \n",
    "    while x[pointer]==' ':\n",
    "        #print \"found a space at position\",pointer\n",
    "        footnotes.append(x[pointer-2:pointer])\n",
    "        pointer=pointer+3\n",
    "    #print footnotes\n",
    "    #print x[pointer-2:]\n",
    "    return {'entry':x[pointer-2:],'footnotes':footnotes}\n",
    "\n",
    "\n",
    "parse_footnotes(test['entry'])"
   ]
  },
  {
   "cell_type": "code",
   "execution_count": 6,
   "metadata": {
    "collapsed": false
   },
   "outputs": [
    {
     "data": {
      "text/plain": [
       "{'arcrit': None, 'entry': '1 6 2 R04'}"
      ]
     },
     "execution_count": 6,
     "metadata": {},
     "output_type": "execute_result"
    }
   ],
   "source": [
    "#parse AR CRIT, repurposing of footnotes code\n",
    "\n",
    "#problem, pointer +4 will sometimes inadverdantly run into a space\n",
    "#exiting too early\n",
    "\n",
    "#1 6 2 R04\n",
    "\n",
    "test={'entry': '1 6 2 R04'}\n",
    "\n",
    "#logic,if there is a space in the string, return nothing\n",
    "\n",
    "#                         111111111\n",
    "#               0123456789012345678\n",
    "\n",
    "def parse_arcrit(x):\n",
    "    pointer=3 #init pointer to start looking for spaces\n",
    "    arcrit=[] #init empty string to hold footnotes\n",
    "    \n",
    "    if x[pointer]!=' ':\n",
    "        return {'entry':x, 'arcrit':None}\n",
    "    \n",
    "    while x[pointer]==' ':\n",
    "        #print \"found a space at position\",pointer\n",
    "        if ' ' in x[pointer-3:pointer]:\n",
    "            #return {'entry':x[pointer-3:],'arcrit':arcrit}\n",
    "            return {'entry':x[pointer-3:],'arcrit':None}\n",
    "        arcrit.append(x[pointer-3:pointer])\n",
    "        pointer=pointer+4\n",
    "        \n",
    "    #print footnotes\n",
    "    #print x[pointer-2:]\n",
    "    #print pointer\n",
    "    \n",
    "    return {'entry':x[pointer-3:],'arcrit':arcrit}\n",
    "\n",
    "\n",
    "parse_arcrit(test['entry'])"
   ]
  },
  {
   "cell_type": "code",
   "execution_count": 7,
   "metadata": {
    "collapsed": false
   },
   "outputs": [
    {
     "data": {
      "text/plain": [
       "{'entry': '2 NT R12', 'mcr': '1', 'prob': '6'}"
      ]
     },
     "execution_count": 7,
     "metadata": {},
     "output_type": "execute_result"
    }
   ],
   "source": [
    "test={'entry':\"1 6 2 NT R12\"}\n",
    "\n",
    "def parse_mcr_prob(x):\n",
    "    if x[3]==' ': #one digit prob\n",
    "        return {'mcr':x[0],'prob':x[2],'entry':x[4:]}\n",
    "    else: #two digit prob\n",
    "        return {'mcr':x[0],'prob':x[2:4],'entry':x[5:]}\n",
    "    \n",
    "parse_mcr_prob(test['entry'])"
   ]
  },
  {
   "cell_type": "code",
   "execution_count": 8,
   "metadata": {
    "collapsed": false
   },
   "outputs": [
    {
     "ename": "NameError",
     "evalue": "name 'find' is not defined",
     "output_type": "error",
     "traceback": [
      "\u001b[0;31m---------------------------------------------------------------------------\u001b[0m",
      "\u001b[0;31mNameError\u001b[0m                                 Traceback (most recent call last)",
      "\u001b[0;32m<ipython-input-8-e9d15dc8d410>\u001b[0m in \u001b[0;36m<module>\u001b[0;34m()\u001b[0m\n\u001b[1;32m      7\u001b[0m     \u001b[0;32mreturn\u001b[0m \u001b[0;34m{\u001b[0m\u001b[0;34m'wwg'\u001b[0m\u001b[0;34m:\u001b[0m\u001b[0mx\u001b[0m\u001b[0;34m[\u001b[0m\u001b[0;34m:\u001b[0m\u001b[0mspace\u001b[0m\u001b[0;34m]\u001b[0m\u001b[0;34m,\u001b[0m \u001b[0;34m'entry'\u001b[0m\u001b[0;34m:\u001b[0m\u001b[0mx\u001b[0m\u001b[0;34m[\u001b[0m\u001b[0mspace\u001b[0m\u001b[0;34m+\u001b[0m\u001b[0;36m1\u001b[0m\u001b[0;34m:\u001b[0m\u001b[0;34m]\u001b[0m\u001b[0;34m}\u001b[0m\u001b[0;34m\u001b[0m\u001b[0m\n\u001b[1;32m      8\u001b[0m \u001b[0;34m\u001b[0m\u001b[0m\n\u001b[0;32m----> 9\u001b[0;31m \u001b[0mparse_wwg\u001b[0m\u001b[0;34m(\u001b[0m\u001b[0mtest\u001b[0m\u001b[0;34m[\u001b[0m\u001b[0;34m'entry'\u001b[0m\u001b[0;34m]\u001b[0m\u001b[0;34m)\u001b[0m\u001b[0;34m\u001b[0m\u001b[0m\n\u001b[0m",
      "\u001b[0;32m<ipython-input-8-e9d15dc8d410>\u001b[0m in \u001b[0;36mparse_wwg\u001b[0;34m(x)\u001b[0m\n\u001b[1;32m      2\u001b[0m \u001b[0;34m\u001b[0m\u001b[0m\n\u001b[1;32m      3\u001b[0m \u001b[0;32mdef\u001b[0m \u001b[0mparse_wwg\u001b[0m\u001b[0;34m(\u001b[0m\u001b[0mx\u001b[0m\u001b[0;34m)\u001b[0m\u001b[0;34m:\u001b[0m\u001b[0;34m\u001b[0m\u001b[0m\n\u001b[0;32m----> 4\u001b[0;31m     \u001b[0mspace\u001b[0m\u001b[0;34m=\u001b[0m\u001b[0mfind\u001b[0m\u001b[0;34m(\u001b[0m\u001b[0mx\u001b[0m\u001b[0;34m,\u001b[0m\u001b[0;34m' '\u001b[0m\u001b[0;34m)\u001b[0m\u001b[0;34m\u001b[0m\u001b[0m\n\u001b[0m\u001b[1;32m      5\u001b[0m     \u001b[0;31m#print x[:space]\u001b[0m\u001b[0;34m\u001b[0m\u001b[0;34m\u001b[0m\u001b[0m\n\u001b[1;32m      6\u001b[0m     \u001b[0;31m#print x[space+1:]\u001b[0m\u001b[0;34m\u001b[0m\u001b[0;34m\u001b[0m\u001b[0m\n",
      "\u001b[0;31mNameError\u001b[0m: name 'find' is not defined"
     ]
    }
   ],
   "source": [
    "test={'entry':'2E NT R12'}\n",
    "\n",
    "def parse_wwg(x):\n",
    "    space=find(x,' ')\n",
    "    #print x[:space]\n",
    "    #print x[space+1:]\n",
    "    return {'wwg':x[:space], 'entry':x[space+1:]}\n",
    "\n",
    "parse_wwg(test['entry'])"
   ]
  },
  {
   "cell_type": "code",
   "execution_count": 9,
   "metadata": {
    "collapsed": false
   },
   "outputs": [
    {
     "ename": "NameError",
     "evalue": "name 'find' is not defined",
     "output_type": "error",
     "traceback": [
      "\u001b[0;31m---------------------------------------------------------------------------\u001b[0m",
      "\u001b[0;31mNameError\u001b[0m                                 Traceback (most recent call last)",
      "\u001b[0;32m<ipython-input-9-4c46bb0b9840>\u001b[0m in \u001b[0;36m<module>\u001b[0;34m()\u001b[0m\n\u001b[1;32m      9\u001b[0m         \u001b[0;32mreturn\u001b[0m \u001b[0;34m{\u001b[0m\u001b[0;34m'nt'\u001b[0m\u001b[0;34m:\u001b[0m\u001b[0;32mNone\u001b[0m\u001b[0;34m,\u001b[0m \u001b[0;34m'cbid'\u001b[0m\u001b[0;34m:\u001b[0m\u001b[0mx\u001b[0m\u001b[0;34m}\u001b[0m\u001b[0;34m\u001b[0m\u001b[0m\n\u001b[1;32m     10\u001b[0m \u001b[0;34m\u001b[0m\u001b[0m\n\u001b[0;32m---> 11\u001b[0;31m \u001b[0mparse_nt_cbid\u001b[0m\u001b[0;34m(\u001b[0m\u001b[0mtest\u001b[0m\u001b[0;34m[\u001b[0m\u001b[0;34m'entry'\u001b[0m\u001b[0;34m]\u001b[0m\u001b[0;34m)\u001b[0m\u001b[0;34m\u001b[0m\u001b[0m\n\u001b[0m",
      "\u001b[0;32m<ipython-input-9-4c46bb0b9840>\u001b[0m in \u001b[0;36mparse_nt_cbid\u001b[0;34m(x)\u001b[0m\n\u001b[1;32m      2\u001b[0m \u001b[0;34m\u001b[0m\u001b[0m\n\u001b[1;32m      3\u001b[0m \u001b[0;32mdef\u001b[0m \u001b[0mparse_nt_cbid\u001b[0m\u001b[0;34m(\u001b[0m\u001b[0mx\u001b[0m\u001b[0;34m)\u001b[0m\u001b[0;34m:\u001b[0m\u001b[0;34m\u001b[0m\u001b[0m\n\u001b[0;32m----> 4\u001b[0;31m     \u001b[0mspace\u001b[0m\u001b[0;34m=\u001b[0m\u001b[0mfind\u001b[0m\u001b[0;34m(\u001b[0m\u001b[0mx\u001b[0m\u001b[0;34m,\u001b[0m\u001b[0;34m' '\u001b[0m\u001b[0;34m)\u001b[0m\u001b[0;34m\u001b[0m\u001b[0m\n\u001b[0m\u001b[1;32m      5\u001b[0m     \u001b[0;31m#print space\u001b[0m\u001b[0;34m\u001b[0m\u001b[0;34m\u001b[0m\u001b[0m\n\u001b[1;32m      6\u001b[0m     \u001b[0;32mif\u001b[0m \u001b[0mspace\u001b[0m \u001b[0;34m!=\u001b[0m \u001b[0;34m-\u001b[0m\u001b[0;36m1\u001b[0m\u001b[0;34m:\u001b[0m \u001b[0;31m#there is a space\u001b[0m\u001b[0;34m\u001b[0m\u001b[0m\n",
      "\u001b[0;31mNameError\u001b[0m: name 'find' is not defined"
     ]
    }
   ],
   "source": [
    "test={'entry':'R18'}\n",
    "\n",
    "def parse_nt_cbid(x):\n",
    "    space=find(x,' ')\n",
    "    #print space\n",
    "    if space != -1: #there is a space\n",
    "        return {'nt':x[:space], 'cbid':x[space+1:]}\n",
    "    else: #no space\n",
    "        return {'nt':None, 'cbid':x}\n",
    "    \n",
    "parse_nt_cbid(test['entry'])"
   ]
  },
  {
   "cell_type": "code",
   "execution_count": 10,
   "metadata": {
    "collapsed": false
   },
   "outputs": [
    {
     "name": "stderr",
     "output_type": "stream",
     "text": [
      "/Users/hunterowens/anaconda3/lib/python3.5/site-packages/ipykernel/__main__.py:1: DeprecationWarning: 'U' mode is deprecated\n",
      "  if __name__ == '__main__':\n"
     ]
    }
   ],
   "source": [
    "input_file  = open('schema_alphabetic_cleaned', 'rU') #Open data file\n",
    "\n",
    "data = [line.rstrip('\\n') for line in input_file] #data is a list of strings, each containing one line\n",
    "\n",
    "#turn it into a dict with a kvp for type, classify as either title or pay line\n",
    "#print type(data) #iam list\n",
    "\n",
    "schema=[]\n",
    "\n",
    "for line in data:\n",
    "    if '$' in line:\n",
    "        schema.append({\"entry\":line,\"type\":\"pay\",\"raw\":line})\n",
    "    else:\n",
    "        schema.append({\"entry\":line,\"type\":\"descriptor\", \"raw\":line})"
   ]
  },
  {
   "cell_type": "code",
   "execution_count": 11,
   "metadata": {
    "collapsed": false
   },
   "outputs": [
    {
     "ename": "NameError",
     "evalue": "name 'find' is not defined",
     "output_type": "error",
     "traceback": [
      "\u001b[0;31m---------------------------------------------------------------------------\u001b[0m",
      "\u001b[0;31mNameError\u001b[0m                                 Traceback (most recent call last)",
      "\u001b[0;32m<ipython-input-11-748b0f67331b>\u001b[0m in \u001b[0;36m<module>\u001b[0;34m()\u001b[0m\n\u001b[1;32m      6\u001b[0m     \u001b[0;32melif\u001b[0m \u001b[0mline\u001b[0m\u001b[0;34m[\u001b[0m\u001b[0;34m'type'\u001b[0m\u001b[0;34m]\u001b[0m\u001b[0;34m==\u001b[0m\u001b[0;34m'pay'\u001b[0m\u001b[0;34m:\u001b[0m\u001b[0;34m\u001b[0m\u001b[0m\n\u001b[1;32m      7\u001b[0m         \u001b[0mline\u001b[0m\u001b[0;34m.\u001b[0m\u001b[0mupdate\u001b[0m\u001b[0;34m(\u001b[0m\u001b[0mparse_range\u001b[0m\u001b[0;34m(\u001b[0m\u001b[0mline\u001b[0m\u001b[0;34m[\u001b[0m\u001b[0;34m'entry'\u001b[0m\u001b[0;34m]\u001b[0m\u001b[0;34m)\u001b[0m\u001b[0;34m)\u001b[0m\u001b[0;34m\u001b[0m\u001b[0m\n\u001b[0;32m----> 8\u001b[0;31m         \u001b[0mline\u001b[0m\u001b[0;34m.\u001b[0m\u001b[0mupdate\u001b[0m\u001b[0;34m(\u001b[0m\u001b[0mparse_pay\u001b[0m\u001b[0;34m(\u001b[0m\u001b[0mline\u001b[0m\u001b[0;34m[\u001b[0m\u001b[0;34m'entry'\u001b[0m\u001b[0;34m]\u001b[0m\u001b[0;34m)\u001b[0m\u001b[0;34m)\u001b[0m\u001b[0;34m\u001b[0m\u001b[0m\n\u001b[0m\u001b[1;32m      9\u001b[0m         \u001b[0mline\u001b[0m\u001b[0;34m.\u001b[0m\u001b[0mupdate\u001b[0m\u001b[0;34m(\u001b[0m\u001b[0mparse_special\u001b[0m\u001b[0;34m(\u001b[0m\u001b[0mline\u001b[0m\u001b[0;34m[\u001b[0m\u001b[0;34m'entry'\u001b[0m\u001b[0;34m]\u001b[0m\u001b[0;34m)\u001b[0m\u001b[0;34m)\u001b[0m\u001b[0;34m\u001b[0m\u001b[0m\n\u001b[1;32m     10\u001b[0m         \u001b[0mline\u001b[0m\u001b[0;34m.\u001b[0m\u001b[0mupdate\u001b[0m\u001b[0;34m(\u001b[0m\u001b[0mparse_footnotes\u001b[0m\u001b[0;34m(\u001b[0m\u001b[0mline\u001b[0m\u001b[0;34m[\u001b[0m\u001b[0;34m'entry'\u001b[0m\u001b[0;34m]\u001b[0m\u001b[0;34m)\u001b[0m\u001b[0;34m)\u001b[0m\u001b[0;34m\u001b[0m\u001b[0m\n",
      "\u001b[0;32m<ipython-input-3-652c17dc204a>\u001b[0m in \u001b[0;36mparse_pay\u001b[0;34m(x)\u001b[0m\n\u001b[1;32m      2\u001b[0m \u001b[0;34m\u001b[0m\u001b[0m\n\u001b[1;32m      3\u001b[0m \u001b[0;32mdef\u001b[0m \u001b[0mparse_pay\u001b[0m\u001b[0;34m(\u001b[0m\u001b[0mx\u001b[0m\u001b[0;34m)\u001b[0m\u001b[0;34m:\u001b[0m\u001b[0;34m\u001b[0m\u001b[0m\n\u001b[0;32m----> 4\u001b[0;31m     \u001b[0mfirst_space\u001b[0m\u001b[0;34m=\u001b[0m\u001b[0mfind\u001b[0m\u001b[0;34m(\u001b[0m\u001b[0mx\u001b[0m\u001b[0;34m,\u001b[0m\u001b[0;34m' '\u001b[0m\u001b[0;34m)\u001b[0m\u001b[0;34m\u001b[0m\u001b[0m\n\u001b[0m\u001b[1;32m      5\u001b[0m     \u001b[0mlow\u001b[0m\u001b[0;34m=\u001b[0m\u001b[0mx\u001b[0m\u001b[0;34m[\u001b[0m\u001b[0;34m:\u001b[0m\u001b[0mfirst_space\u001b[0m\u001b[0;34m]\u001b[0m\u001b[0;34m\u001b[0m\u001b[0m\n\u001b[1;32m      6\u001b[0m     \u001b[0msecond_dollar\u001b[0m\u001b[0;34m=\u001b[0m\u001b[0mfind\u001b[0m\u001b[0;34m(\u001b[0m\u001b[0mx\u001b[0m\u001b[0;34m,\u001b[0m\u001b[0;34m'$'\u001b[0m\u001b[0;34m,\u001b[0m\u001b[0;36m1\u001b[0m\u001b[0;34m)\u001b[0m\u001b[0;34m\u001b[0m\u001b[0m\n",
      "\u001b[0;31mNameError\u001b[0m: name 'find' is not defined"
     ]
    }
   ],
   "source": [
    "for line in schema:\n",
    "    if line['type']=='descriptor':\n",
    "        line.update(parse_descriptors(line['entry']))\n",
    "        #print line\n",
    "        #print \"\\n\"\n",
    "    elif line['type']=='pay':\n",
    "        line.update(parse_range(line['entry']))\n",
    "        line.update(parse_pay(line['entry']))\n",
    "        line.update(parse_special(line['entry']))\n",
    "        line.update(parse_footnotes(line['entry']))\n",
    "        line.update(parse_arcrit(line['entry']))\n",
    "        line.update(parse_mcr_prob(line['entry']))\n",
    "        line.update(parse_wwg(line['entry']))\n",
    "        line.update(parse_nt_cbid(line['entry']))\n",
    "        #cannot update something that doesn't exist\n",
    "        #print line\n",
    "        #print \"\\n\""
   ]
  },
  {
   "cell_type": "code",
   "execution_count": 12,
   "metadata": {
    "collapsed": false
   },
   "outputs": [
    {
     "ename": "SyntaxError",
     "evalue": "Missing parentheses in call to 'print' (<ipython-input-12-5af5645fd96b>, line 17)",
     "output_type": "error",
     "traceback": [
      "\u001b[0;36m  File \u001b[0;32m\"<ipython-input-12-5af5645fd96b>\"\u001b[0;36m, line \u001b[0;32m17\u001b[0m\n\u001b[0;31m    print val\u001b[0m\n\u001b[0m            ^\u001b[0m\n\u001b[0;31mSyntaxError\u001b[0m\u001b[0;31m:\u001b[0m Missing parentheses in call to 'print'\n"
     ]
    }
   ],
   "source": [
    "#need to design something to \"copy over\" class/schem/title from previous record \n",
    "#print type(schema) #iamlist\n",
    "\n",
    "# .update() methods adds dict2 kvps to dict1 on dict1.update(dict2)\n",
    "\n",
    "prev={} #iam global dictionary\n",
    "\n",
    "for idx, val in enumerate(schema):\n",
    "    if val['type']=='descriptor':\n",
    "        prev['class']=val['class']\n",
    "        prev['schema']=val['schema']\n",
    "        prev['title']=val['title']\n",
    "        #print prev\n",
    "    \n",
    "    if val['type']=='pay':\n",
    "        val.update(prev)\n",
    "        print val\n",
    "        print \"\\n\""
   ]
  },
  {
   "cell_type": "code",
   "execution_count": 13,
   "metadata": {
    "collapsed": false
   },
   "outputs": [
    {
     "ename": "NameError",
     "evalue": "name 'csv' is not defined",
     "output_type": "error",
     "traceback": [
      "\u001b[0;31m---------------------------------------------------------------------------\u001b[0m",
      "\u001b[0;31mNameError\u001b[0m                                 Traceback (most recent call last)",
      "\u001b[0;32m<ipython-input-13-a66469439332>\u001b[0m in \u001b[0;36m<module>\u001b[0;34m()\u001b[0m\n\u001b[1;32m      2\u001b[0m \u001b[0;34m\u001b[0m\u001b[0m\n\u001b[1;32m      3\u001b[0m \u001b[0;32mwith\u001b[0m \u001b[0mopen\u001b[0m\u001b[0;34m(\u001b[0m\u001b[0;34m'schema_alphabetic_final.csv'\u001b[0m\u001b[0;34m,\u001b[0m \u001b[0;34m'wb'\u001b[0m\u001b[0;34m)\u001b[0m \u001b[0;32mas\u001b[0m \u001b[0mf\u001b[0m\u001b[0;34m:\u001b[0m\u001b[0;34m\u001b[0m\u001b[0m\n\u001b[0;32m----> 4\u001b[0;31m     \u001b[0mwriter\u001b[0m \u001b[0;34m=\u001b[0m \u001b[0mcsv\u001b[0m\u001b[0;34m.\u001b[0m\u001b[0mwriter\u001b[0m\u001b[0;34m(\u001b[0m\u001b[0mf\u001b[0m\u001b[0;34m)\u001b[0m\u001b[0;34m\u001b[0m\u001b[0m\n\u001b[0m\u001b[1;32m      5\u001b[0m     writer.writerow(['class','schema','title','range','low','high','special','footnotes','arcrit','mcr','prob',\n\u001b[1;32m      6\u001b[0m                      'wwg','nt','cbid'])\n",
      "\u001b[0;31mNameError\u001b[0m: name 'csv' is not defined"
     ]
    }
   ],
   "source": [
    "#new version\n",
    "\n",
    "with open('schema_alphabetic_final.csv', 'wb') as f:\n",
    "    writer = csv.writer(f)\n",
    "    writer.writerow(['class','schema','title','range','low','high','special','footnotes','arcrit','mcr','prob',\n",
    "                     'wwg','nt','cbid'])\n",
    "    for line in schema:\n",
    "        if line['type']=='pay':\n",
    "            writer.writerow([line['class'],line['schema'],line['title'],\n",
    "                             line['range'],line['low'],line['high'],line['special'],\n",
    "                             line['footnotes'],line['arcrit'],line['mcr'],line['prob'],line['wwg'],\n",
    "                             line['nt'],line['cbid']\n",
    "                            ])"
   ]
  }
 ],
 "metadata": {
  "kernelspec": {
   "display_name": "Python 3",
   "language": "python",
   "name": "python3"
  },
  "language_info": {
   "codemirror_mode": {
    "name": "ipython",
    "version": 3
   },
   "file_extension": ".py",
   "mimetype": "text/x-python",
   "name": "python",
   "nbconvert_exporter": "python",
   "pygments_lexer": "ipython3",
   "version": "3.5.2"
  }
 },
 "nbformat": 4,
 "nbformat_minor": 0
}
